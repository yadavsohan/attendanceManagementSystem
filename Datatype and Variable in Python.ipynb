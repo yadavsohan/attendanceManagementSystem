{
 "cells": [
  {
   "cell_type": "markdown",
   "id": "af51f93f",
   "metadata": {},
   "source": [
    "3+32"
   ]
  },
  {
   "cell_type": "markdown",
   "id": "cb8b5fd8",
   "metadata": {},
   "source": [
    "# Python Tutorials"
   ]
  },
  {
   "cell_type": "markdown",
   "id": "dedf8da3",
   "metadata": {},
   "source": [
    "#Datatype "
   ]
  },
  {
   "cell_type": "code",
   "execution_count": 3,
   "id": "ecfe1cf3",
   "metadata": {},
   "outputs": [
    {
     "data": {
      "text/plain": [
       "37"
      ]
     },
     "execution_count": 3,
     "metadata": {},
     "output_type": "execute_result"
    }
   ],
   "source": [
    "34+3\n"
   ]
  },
  {
   "cell_type": "code",
   "execution_count": 4,
   "id": "5c1f4ab2",
   "metadata": {},
   "outputs": [
    {
     "data": {
      "text/plain": [
       "9"
      ]
     },
     "execution_count": 4,
     "metadata": {},
     "output_type": "execute_result"
    }
   ],
   "source": [
    "54-45"
   ]
  },
  {
   "cell_type": "code",
   "execution_count": 5,
   "id": "07ec1ebb",
   "metadata": {},
   "outputs": [
    {
     "data": {
      "text/plain": [
       "16.25"
      ]
     },
     "execution_count": 5,
     "metadata": {},
     "output_type": "execute_result"
    }
   ],
   "source": [
    "65/4"
   ]
  },
  {
   "cell_type": "code",
   "execution_count": 6,
   "id": "bc30b857",
   "metadata": {},
   "outputs": [
    {
     "data": {
      "text/plain": [
       "0"
      ]
     },
     "execution_count": 6,
     "metadata": {},
     "output_type": "execute_result"
    }
   ],
   "source": [
    "54%2"
   ]
  },
  {
   "cell_type": "code",
   "execution_count": 7,
   "id": "8c82cb58",
   "metadata": {},
   "outputs": [
    {
     "data": {
      "text/plain": [
       "100"
      ]
     },
     "execution_count": 7,
     "metadata": {},
     "output_type": "execute_result"
    }
   ],
   "source": [
    "10**2"
   ]
  },
  {
   "cell_type": "markdown",
   "id": "209fe3a0",
   "metadata": {},
   "source": [
    "##String"
   ]
  },
  {
   "cell_type": "code",
   "execution_count": 11,
   "id": "1c1a83d9",
   "metadata": {},
   "outputs": [
    {
     "data": {
      "text/plain": [
       "'My Name is Yadav Sohan'"
      ]
     },
     "execution_count": 11,
     "metadata": {},
     "output_type": "execute_result"
    }
   ],
   "source": [
    "\"My Name is Yadav Sohan\""
   ]
  },
  {
   "cell_type": "code",
   "execution_count": 12,
   "id": "ab8ea1ca",
   "metadata": {},
   "outputs": [
    {
     "data": {
      "text/plain": [
       "'Hello ,This is Yadav Sohan'"
      ]
     },
     "execution_count": 12,
     "metadata": {},
     "output_type": "execute_result"
    }
   ],
   "source": [
    "\"Hello ,\" + \"This is Yadav Sohan\""
   ]
  },
  {
   "cell_type": "code",
   "execution_count": 14,
   "id": "d38aedde",
   "metadata": {},
   "outputs": [
    {
     "data": {
      "text/plain": [
       "' sohan sohan sohan sohan sohan sohan sohan sohan sohan sohan'"
      ]
     },
     "execution_count": 14,
     "metadata": {},
     "output_type": "execute_result"
    }
   ],
   "source": [
    "10 * ' sohan '"
   ]
  },
  {
   "cell_type": "code",
   "execution_count": 15,
   "id": "d80118ee",
   "metadata": {},
   "outputs": [
    {
     "data": {
      "text/plain": [
       "float"
      ]
     },
     "execution_count": 15,
     "metadata": {},
     "output_type": "execute_result"
    }
   ],
   "source": [
    "type(10.0)"
   ]
  },
  {
   "cell_type": "code",
   "execution_count": 16,
   "id": "a5aaefe1",
   "metadata": {},
   "outputs": [
    {
     "data": {
      "text/plain": [
       "str"
      ]
     },
     "execution_count": 16,
     "metadata": {},
     "output_type": "execute_result"
    }
   ],
   "source": [
    "type(\"hel.lo\")"
   ]
  },
  {
   "cell_type": "code",
   "execution_count": 17,
   "id": "463eeb4e",
   "metadata": {},
   "outputs": [
    {
     "data": {
      "text/plain": [
       "int"
      ]
     },
     "execution_count": 17,
     "metadata": {},
     "output_type": "execute_result"
    }
   ],
   "source": [
    "type(0)\n"
   ]
  },
  {
   "cell_type": "code",
   "execution_count": 18,
   "id": "02a88357",
   "metadata": {},
   "outputs": [
    {
     "data": {
      "text/plain": [
       "str"
      ]
     },
     "execution_count": 18,
     "metadata": {},
     "output_type": "execute_result"
    }
   ],
   "source": [
    "type('c')"
   ]
  },
  {
   "cell_type": "code",
   "execution_count": 20,
   "id": "276a291c",
   "metadata": {},
   "outputs": [],
   "source": [
    "ch = 'sohan'\n"
   ]
  },
  {
   "cell_type": "code",
   "execution_count": 25,
   "id": "bdba9282",
   "metadata": {},
   "outputs": [],
   "source": [
    "c=ch[0:5]"
   ]
  },
  {
   "cell_type": "code",
   "execution_count": 26,
   "id": "31b2be09",
   "metadata": {},
   "outputs": [
    {
     "data": {
      "text/plain": [
       "'sohan'"
      ]
     },
     "execution_count": 26,
     "metadata": {},
     "output_type": "execute_result"
    }
   ],
   "source": [
    "c"
   ]
  },
  {
   "cell_type": "code",
   "execution_count": 28,
   "id": "ebe2606c",
   "metadata": {},
   "outputs": [
    {
     "data": {
      "text/plain": [
       "bool"
      ]
     },
     "execution_count": 28,
     "metadata": {},
     "output_type": "execute_result"
    }
   ],
   "source": [
    "type(True)"
   ]
  },
  {
   "cell_type": "markdown",
   "id": "1e7bec9a",
   "metadata": {},
   "source": [
    "# Variable"
   ]
  },
  {
   "cell_type": "code",
   "execution_count": 29,
   "id": "81e3fd71",
   "metadata": {},
   "outputs": [],
   "source": [
    "a=10"
   ]
  },
  {
   "cell_type": "code",
   "execution_count": 30,
   "id": "4c50c5b2",
   "metadata": {},
   "outputs": [
    {
     "data": {
      "text/plain": [
       "int"
      ]
     },
     "execution_count": 30,
     "metadata": {},
     "output_type": "execute_result"
    }
   ],
   "source": [
    "type(a)"
   ]
  },
  {
   "cell_type": "code",
   "execution_count": 31,
   "id": "0b44eac5",
   "metadata": {},
   "outputs": [],
   "source": [
    "b='Sohan Yadav'"
   ]
  },
  {
   "cell_type": "code",
   "execution_count": 32,
   "id": "db648651",
   "metadata": {},
   "outputs": [
    {
     "data": {
      "text/plain": [
       "str"
      ]
     },
     "execution_count": 32,
     "metadata": {},
     "output_type": "execute_result"
    }
   ],
   "source": [
    "type(b)"
   ]
  },
  {
   "cell_type": "code",
   "execution_count": 33,
   "id": "2250e455",
   "metadata": {},
   "outputs": [],
   "source": [
    "a=120"
   ]
  },
  {
   "cell_type": "code",
   "execution_count": 34,
   "id": "8fde8497",
   "metadata": {},
   "outputs": [],
   "source": [
    "b=100"
   ]
  },
  {
   "cell_type": "code",
   "execution_count": 35,
   "id": "8c8de6a4",
   "metadata": {},
   "outputs": [
    {
     "name": "stdout",
     "output_type": "stream",
     "text": [
      "12000\n"
     ]
    }
   ],
   "source": [
    "print(a*b)"
   ]
  },
  {
   "cell_type": "code",
   "execution_count": 36,
   "id": "fb5c339c",
   "metadata": {},
   "outputs": [
    {
     "name": "stdout",
     "output_type": "stream",
     "text": [
      "1.2\n"
     ]
    }
   ],
   "source": [
    "print(a/b)"
   ]
  },
  {
   "cell_type": "code",
   "execution_count": 37,
   "id": "54782650",
   "metadata": {},
   "outputs": [
    {
     "name": "stdout",
     "output_type": "stream",
     "text": [
      "20\n"
     ]
    }
   ],
   "source": [
    "print(a%b)"
   ]
  },
  {
   "cell_type": "code",
   "execution_count": 38,
   "id": "1a3dd522",
   "metadata": {},
   "outputs": [],
   "source": [
    "c='Obuda University'"
   ]
  },
  {
   "cell_type": "code",
   "execution_count": 39,
   "id": "ccdc73c9",
   "metadata": {},
   "outputs": [
    {
     "name": "stdout",
     "output_type": "stream",
     "text": [
      "Obuda University\n"
     ]
    }
   ],
   "source": [
    "print(c)"
   ]
  },
  {
   "cell_type": "code",
   "execution_count": 40,
   "id": "aba56805",
   "metadata": {},
   "outputs": [],
   "source": [
    "d='Besci ut '"
   ]
  },
  {
   "cell_type": "code",
   "execution_count": 44,
   "id": "d932ad6b",
   "metadata": {},
   "outputs": [
    {
     "name": "stdout",
     "output_type": "stream",
     "text": [
      "Obuda University Besci ut \n"
     ]
    }
   ],
   "source": [
    "print(c+ ' '+ d)"
   ]
  },
  {
   "cell_type": "code",
   "execution_count": 46,
   "id": "0c32bf55",
   "metadata": {},
   "outputs": [
    {
     "name": "stdout",
     "output_type": "stream",
     "text": [
      "221.2\n"
     ]
    }
   ],
   "source": [
    "print((a+b) + (a/b))"
   ]
  },
  {
   "cell_type": "code",
   "execution_count": 47,
   "id": "95def813",
   "metadata": {},
   "outputs": [
    {
     "name": "stdout",
     "output_type": "stream",
     "text": [
      "Hello\n"
     ]
    }
   ],
   "source": [
    "##Varable way of printing\n",
    "\n",
    "print('Hello')"
   ]
  },
  {
   "cell_type": "code",
   "execution_count": 48,
   "id": "6d91578b",
   "metadata": {},
   "outputs": [],
   "source": [
    "first_name='Sohan'\n",
    "last_name='Yadav'"
   ]
  },
  {
   "cell_type": "code",
   "execution_count": 51,
   "id": "5e633c59",
   "metadata": {},
   "outputs": [
    {
     "name": "stdout",
     "output_type": "stream",
     "text": [
      "My first name is Sohan and my last name Yadav\n"
     ]
    }
   ],
   "source": [
    "print(\"My first name is {} and my last name {}\".format(first_name,last_name))"
   ]
  },
  {
   "cell_type": "code",
   "execution_count": 52,
   "id": "ff6bc197",
   "metadata": {},
   "outputs": [
    {
     "name": "stdout",
     "output_type": "stream",
     "text": [
      "My first name is Sohan and last name is Yadav\n"
     ]
    }
   ],
   "source": [
    "print(\"My first name is {first} and last name is {last}\".format(last=last_name,first=first_name))"
   ]
  },
  {
   "cell_type": "code",
   "execution_count": 53,
   "id": "aa6e56b1",
   "metadata": {},
   "outputs": [
    {
     "data": {
      "text/plain": [
       "5"
      ]
     },
     "execution_count": 53,
     "metadata": {},
     "output_type": "execute_result"
    }
   ],
   "source": [
    "len('sohan')"
   ]
  },
  {
   "cell_type": "code",
   "execution_count": 55,
   "id": "1bfda2ec",
   "metadata": {},
   "outputs": [
    {
     "data": {
      "text/plain": [
       "list"
      ]
     },
     "execution_count": 55,
     "metadata": {},
     "output_type": "execute_result"
    }
   ],
   "source": [
    "type(['1',2,3,4,5])"
   ]
  },
  {
   "cell_type": "code",
   "execution_count": null,
   "id": "7257f931",
   "metadata": {},
   "outputs": [],
   "source": []
  }
 ],
 "metadata": {
  "kernelspec": {
   "display_name": "Python 3 (ipykernel)",
   "language": "python",
   "name": "python3"
  },
  "language_info": {
   "codemirror_mode": {
    "name": "ipython",
    "version": 3
   },
   "file_extension": ".py",
   "mimetype": "text/x-python",
   "name": "python",
   "nbconvert_exporter": "python",
   "pygments_lexer": "ipython3",
   "version": "3.9.7"
  }
 },
 "nbformat": 4,
 "nbformat_minor": 5
}
